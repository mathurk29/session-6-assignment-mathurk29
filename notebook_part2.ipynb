{
 "metadata": {
  "language_info": {
   "codemirror_mode": {
    "name": "ipython",
    "version": 3
   },
   "file_extension": ".py",
   "mimetype": "text/x-python",
   "name": "python",
   "nbconvert_exporter": "python",
   "pygments_lexer": "ipython3",
   "version": "3.7.9"
  },
  "orig_nbformat": 4,
  "kernelspec": {
   "name": "python3",
   "display_name": "Python 3.7.9 64-bit"
  },
  "interpreter": {
   "hash": "0600588c3b5f4418cbe7b5ebc6825b479f3bc010269d8b60d75058cdd010adfe"
  }
 },
 "nbformat": 4,
 "nbformat_minor": 2,
 "cells": [
  {
   "source": [
    "# 1"
   ],
   "cell_type": "markdown",
   "metadata": {}
  },
  {
   "source": [
    "fibonacci = [0,1,1]\n",
    "while True:\n",
    "    next = fibonacci[-1] + fibonacci[-2]\n",
    "    if next<10000:\n",
    "        fibonacci.append(next)\n",
    "    else:\n",
    "        break\n",
    "\n",
    "print(f'Fibonacci serires till 10000 is: {fibonacci}')\n",
    "\n",
    "\n",
    "check_Fibonaci = (lambda x: x in fibonacci) \n"
   ],
   "cell_type": "code",
   "metadata": {},
   "execution_count": 25,
   "outputs": [
    {
     "output_type": "stream",
     "name": "stdout",
     "text": [
      "Fibonacci serires till 10000 is: [0, 1, 1, 2, 3, 5, 8, 13, 21, 34, 55, 89, 144, 233, 377, 610, 987, 1597, 2584, 4181, 6765]\n"
     ]
    }
   ]
  },
  {
   "cell_type": "code",
   "execution_count": 29,
   "metadata": {},
   "outputs": [
    {
     "output_type": "execute_result",
     "data": {
      "text/plain": [
       "True"
      ]
     },
     "metadata": {},
     "execution_count": 29
    }
   ],
   "source": [
    "check_Fibonaci(610)`\n"
   ]
  },
  {
   "cell_type": "code",
   "execution_count": 28,
   "metadata": {},
   "outputs": [
    {
     "output_type": "execute_result",
     "data": {
      "text/plain": [
       "False"
      ]
     },
     "metadata": {},
     "execution_count": 28
    }
   ],
   "source": [
    "check_Fibonaci(611)"
   ]
  },
  {
   "source": [
    "# 2"
   ],
   "cell_type": "markdown",
   "metadata": {}
  },
  {
   "cell_type": "code",
   "execution_count": 30,
   "metadata": {},
   "outputs": [
    {
     "output_type": "execute_result",
     "data": {
      "text/plain": [
       "[13, 37, 61, 85]"
      ]
     },
     "metadata": {},
     "execution_count": 30
    }
   ],
   "source": [
    "list_a = [1,2,3,4,5,6,7,8,9]\n",
    "list_b = [11,22,33,44,55,66,77,88,99]\n",
    "\n",
    "a = list(filter(lambda x:x%2==0,list_a))\n",
    "b = list(filter(lambda x:x%2!=0,list_b))\n",
    "a\n",
    "b\n",
    "\n",
    "[x+y for x,y in list(zip(a,b) ) ]\n"
   ]
  },
  {
   "source": [
    "# 2.2"
   ],
   "cell_type": "markdown",
   "metadata": {}
  },
  {
   "cell_type": "code",
   "execution_count": 31,
   "metadata": {},
   "outputs": [
    {
     "output_type": "execute_result",
     "data": {
      "text/plain": [
       "'Kshtj Mthr'"
      ]
     },
     "metadata": {},
     "execution_count": 31
    }
   ],
   "source": [
    "name = 'Kshitij Mathur'\n",
    "''.join([x for x in name if x.lower() not in ('a','e','i','o','u')])\n"
   ]
  },
  {
   "source": [
    "# 2.3"
   ],
   "cell_type": "markdown",
   "metadata": {}
  },
  {
   "cell_type": "code",
   "execution_count": 35,
   "metadata": {},
   "outputs": [
    {
     "output_type": "execute_result",
     "data": {
      "text/plain": [
       "[0.7310585786300049, 0.8807970779778823, 0.9820137900379085]"
      ]
     },
     "metadata": {},
     "execution_count": 35
    }
   ],
   "source": [
    "import math\n",
    "\n",
    "inputlist = [1,2,4]\n",
    "result = list(map(lambda x: 1 / (1 + math.exp(-x)),inputlist))\n",
    "result"
   ]
  },
  {
   "source": [
    "# 2.4"
   ],
   "cell_type": "markdown",
   "metadata": {}
  },
  {
   "cell_type": "code",
   "execution_count": 37,
   "metadata": {},
   "outputs": [
    {
     "output_type": "execute_result",
     "data": {
      "text/plain": [
       "['y', 'x', 'f', 'n', 'e']"
      ]
     },
     "metadata": {},
     "execution_count": 37
    }
   ],
   "source": [
    "input_string = 'tsaiz'\n",
    "# [chr(ord(x) + 5) for x in input_string]\n",
    "[chr(ord(x) + 5) if ord(x) < 118 else chr(ord(x) - 21) for x in input_string]\n"
   ]
  },
  {
   "source": [
    "# 3"
   ],
   "cell_type": "markdown",
   "metadata": {}
  },
  {
   "cell_type": "code",
   "execution_count": 38,
   "metadata": {},
   "outputs": [],
   "source": [
    "from  urllib import request\n",
    "\n",
    "def check_swear_words(input_para:str) -> bool:\n",
    "    ''' Takes a string and tells if it contains any of the profane words managed at  https://raw.githubusercontent.com/RobertJGabriel/Google-profanity-words/master/list.txt '''\n",
    "    \n",
    "    url  = 'https://raw.githubusercontent.com/RobertJGabriel/Google-profanity-words/master/list.txt'\n",
    "    google_profanity_words = request.urlopen(url)\n",
    "\n",
    "    profane_words = []\n",
    "    for line in google_profanity_words:\n",
    "        profane_words.append(line.decode(\"utf-8\").strip())\n",
    "\n",
    "    return any([ True if inp in profane_words else False for inp in input_para.split(' ') ])"
   ]
  },
  {
   "cell_type": "code",
   "execution_count": 40,
   "metadata": {},
   "outputs": [
    {
     "output_type": "execute_result",
     "data": {
      "text/plain": [
       "True"
      ]
     },
     "metadata": {},
     "execution_count": 40
    }
   ],
   "source": [
    "check_swear_words('I swear I did not say fuck ')"
   ]
  },
  {
   "source": [
    "# 4.1"
   ],
   "cell_type": "markdown",
   "metadata": {}
  },
  {
   "cell_type": "code",
   "execution_count": 41,
   "metadata": {},
   "outputs": [
    {
     "output_type": "execute_result",
     "data": {
      "text/plain": [
       "12"
      ]
     },
     "metadata": {},
     "execution_count": 41
    }
   ],
   "source": [
    "\n",
    "from functools import partial, reduce\n",
    "reduce(lambda x, y: x+y , filter(lambda x: x%2==0, [1,2,3,4,5,6]) )\n",
    "\n"
   ]
  },
  {
   "source": [
    "# 4.2"
   ],
   "cell_type": "markdown",
   "metadata": {}
  },
  {
   "cell_type": "code",
   "execution_count": 43,
   "metadata": {},
   "outputs": [
    {
     "output_type": "execute_result",
     "data": {
      "text/plain": [
       "'z'"
      ]
     },
     "metadata": {},
     "execution_count": 43
    }
   ],
   "source": [
    "input_string = 'abcdz'\n",
    "reduce(lambda a,b: a if a > b else b, input_string)\n"
   ]
  },
  {
   "source": [
    "# 4.3"
   ],
   "cell_type": "markdown",
   "metadata": {}
  },
  {
   "cell_type": "code",
   "execution_count": 44,
   "metadata": {},
   "outputs": [
    {
     "output_type": "execute_result",
     "data": {
      "text/plain": [
       "18"
      ]
     },
     "metadata": {},
     "execution_count": 44
    }
   ],
   "source": [
    "inputlist = [0,1,2,3,4,5,6,7,8,9]\n",
    "#list(filter(lambda a: inputlist.index(a) % 3 == 0, inputlist))\n",
    "reduce(lambda a,b: a + b, filter(lambda a: inputlist.index(a) % 3 == 0, inputlist) )\n"
   ]
  },
  {
   "source": [
    "# 5"
   ],
   "cell_type": "markdown",
   "metadata": {}
  },
  {
   "cell_type": "code",
   "execution_count": 87,
   "metadata": {},
   "outputs": [
    {
     "output_type": "stream",
     "name": "stdout",
     "text": [
      "KA95PA1000\nKA57VX1001\nKA17SR1002\nKA23RJ1003\nKA84OV1004\nKA12DN1005\nKA45PU1006\nKA37YZ1007\nKA96JG1008\nKA76XA1009\nKA71PK1010\nKA16VH1011\nKA99ZT1012\nKA22DC1013\nKA66VV1014\n"
     ]
    }
   ],
   "source": [
    "#KADDAADDDD number plates, where KA is fixed, D stands for a digit, and A stands for Capital alphabets. 10<<DD<<99 & 1000<<DDDD<<9999 PTS:100\n",
    "import random\n",
    "import string\n",
    "gen = ('KA' + str(random.randint(10,99)) + random.choice(string.ascii_letters.upper()) + random.choice(string.ascii_letters.upper()) + str(x) for x in range(1000,9999))\n",
    "for _ in range(15):\n",
    "    print(gen.__next__())\n",
    "\n"
   ]
  },
  {
   "source": [
    "# 6"
   ],
   "cell_type": "markdown",
   "metadata": {}
  },
  {
   "cell_type": "code",
   "execution_count": 89,
   "metadata": {},
   "outputs": [
    {
     "output_type": "stream",
     "name": "stdout",
     "text": [
      "Ap59PS1000\nAp68NF1001\nAp17SM1002\nAp24ZE1003\nAp98FB1004\nAp46QF1005\nAp37CK1006\nAp64LQ1007\nAp75OO1008\nAp44YQ1009\nAp96CG1010\nAp34KK1011\nAp79NG1012\nAp54DW1013\nAp48PV1014\n"
     ]
    }
   ],
   "source": [
    "from functools import partial\n",
    "\n",
    "def complete(start,end,DL):\n",
    "    gen = (DL + str(random.randint(10,99)) + random.choice(string.ascii_letters.upper()) + random.choice(string.ascii_letters.upper()) + str(x) for x in range(start,end))\n",
    "    for g in range(15):\n",
    "        print(gen.__next__())\n",
    "\n",
    "f = partial(complete,1000,9999)\n",
    "f('Ap')\n"
   ]
  }
 ]
}