{
 "metadata": {
  "language_info": {
   "codemirror_mode": {
    "name": "ipython",
    "version": 3
   },
   "file_extension": ".py",
   "mimetype": "text/x-python",
   "name": "python",
   "nbconvert_exporter": "python",
   "pygments_lexer": "ipython3",
   "version": "3.7.9"
  },
  "orig_nbformat": 4,
  "kernelspec": {
   "name": "python3",
   "display_name": "Python 3.7.9 64-bit"
  },
  "interpreter": {
   "hash": "0600588c3b5f4418cbe7b5ebc6825b479f3bc010269d8b60d75058cdd010adfe"
  }
 },
 "nbformat": 4,
 "nbformat_minor": 2,
 "cells": [
  {
   "cell_type": "code",
   "execution_count": 1,
   "metadata": {},
   "outputs": [],
   "source": [
    "import random\n",
    "from  part1 import *\n",
    "from collections import Counter\n",
    "import inspect"
   ]
  },
  {
   "source": [
    "# 1\n"
   ],
   "cell_type": "markdown",
   "metadata": {}
  },
  {
   "cell_type": "code",
   "execution_count": 2,
   "metadata": {},
   "outputs": [
    {
     "output_type": "stream",
     "name": "stdout",
     "text": [
      "{'spades': 'ace'}\n{'spades': '2'}\n{'spades': '3'}\n{'spades': '4'}\n{'spades': '5'}\n{'spades': '6'}\n{'spades': '7'}\n{'spades': '8'}\n{'spades': '9'}\n{'spades': '10'}\n{'spades': 'jack'}\n{'spades': 'queen'}\n{'spades': 'king'}\n{'clubs': 'ace'}\n{'clubs': '2'}\n{'clubs': '3'}\n{'clubs': '4'}\n{'clubs': '5'}\n{'clubs': '6'}\n{'clubs': '7'}\n{'clubs': '8'}\n{'clubs': '9'}\n{'clubs': '10'}\n{'clubs': 'jack'}\n{'clubs': 'queen'}\n{'clubs': 'king'}\n{'hearts': 'ace'}\n{'hearts': '2'}\n{'hearts': '3'}\n{'hearts': '4'}\n{'hearts': '5'}\n{'hearts': '6'}\n{'hearts': '7'}\n{'hearts': '8'}\n{'hearts': '9'}\n{'hearts': '10'}\n{'hearts': 'jack'}\n{'hearts': 'queen'}\n{'hearts': 'king'}\n{'diamonds': 'ace'}\n{'diamonds': '2'}\n{'diamonds': '3'}\n{'diamonds': '4'}\n{'diamonds': '5'}\n{'diamonds': '6'}\n{'diamonds': '7'}\n{'diamonds': '8'}\n{'diamonds': '9'}\n{'diamonds': '10'}\n{'diamonds': 'jack'}\n{'diamonds': 'queen'}\n{'diamonds': 'king'}\n"
     ]
    },
    {
     "output_type": "execute_result",
     "data": {
      "text/plain": [
       "52"
      ]
     },
     "metadata": {},
     "execution_count": 2
    }
   ],
   "source": [
    "deck = [{x:y} for x in [ 'spades' , 'clubs' , 'hearts' , 'diamonds' ] for y in [ 'ace', '2' , '3' , '4' , '5' , '6' , '7' , '8' , '9' , '10' , 'jack' , 'queen' , 'king' ]  ]\n",
    "for d in deck:\n",
    "    print(d)\n",
    "len(deck)"
   ]
  },
  {
   "source": [
    "# 2\n",
    "\n"
   ],
   "cell_type": "markdown",
   "metadata": {}
  },
  {
   "cell_type": "code",
   "execution_count": 3,
   "metadata": {},
   "outputs": [
    {
     "output_type": "stream",
     "name": "stdout",
     "text": [
      "def create_deck_of_cards() -> list:\n    ''' This function returns a list of tuples that represents the 52 cards in a deck of cards. '''\n\n    vals = ['ace', '2', '3', '4', '5', '6', '7',\n            '8', '9', '10', 'jack', 'queen', 'king']\n\n    suits = ['spades', 'clubs', 'hearts', 'diamonds']\n\n    deck = []\n    for v in vals:\n        for s in suits:\n            deck.append({s: v})\n    return deck\n\n"
     ]
    }
   ],
   "source": [
    "print(inspect.getsource(create_deck_of_cards))"
   ]
  },
  {
   "source": [
    "# Convert Face cards to numbers for convenient comparisons"
   ],
   "cell_type": "markdown",
   "metadata": {}
  },
  {
   "cell_type": "code",
   "execution_count": 4,
   "metadata": {},
   "outputs": [
    {
     "output_type": "stream",
     "name": "stdout",
     "text": [
      "def convert_faces_to_numbers(hand):\n    result = []\n    for x, y in hand:\n        if y == 'jack':\n            y = 11\n        elif y == 'queen':\n            y = 12\n        elif y == 'king':\n            y = 13\n        elif y == 'ace':\n            y = 14\n        else:\n            y = int(y)\n        result.append((x, y))\n\n    # converted faces to numbers\n    return result\n\n"
     ]
    }
   ],
   "source": [
    "print(inspect.getsource(convert_faces_to_numbers))"
   ]
  },
  {
   "source": [
    "# Identify the hand of the set player holds"
   ],
   "cell_type": "markdown",
   "metadata": {}
  },
  {
   "cell_type": "code",
   "execution_count": 5,
   "metadata": {},
   "outputs": [
    {
     "output_type": "stream",
     "name": "stdout",
     "text": [
      "def find_hand_type(hand, val_int, cards_in_hand):\n\n    # sorted hand to manipulate values in hand\n    sorted_hand = sorted([y for x, y in hand])\n\n    # check for hands where all cards belong to same suit\n    if len(set([x for x, y in hand])) == 1:\n\n        # check for royal flush\n\n        if sum([y for x, y in hand]) == sum(val_int[-cards_in_hand:]):\n            return \"royal_flush\"\n        # check for straight_flush\n        elif sorted_hand == list(range(min(sorted_hand), max(sorted_hand)+1)):\n            return \"straight_flush\"\n        else:\n            return \"flush\"\n\n    occurrences = Counter([y for x, y in hand])\n\n    # how many distinct values exist\n    unique_values = len(occurrences)\n\n    most_common_values = occurrences.most_common(unique_values)\n\n    # first most common count\n    mostcommon_first = most_common_values[0][1]\n    # second most common count if it exists\n    if unique_values > 1:\n        mostcommon_second = most_common_values[1][1]\n\n    if cards_in_hand == 5 and mostcommon_first == 3 and mostcommon_second == 2:\n        return \"full_house\"\n\n    if cards_in_hand in [4, 5] and mostcommon_first == 4:\n        return \"four_of_a_kind\"\n\n    if mostcommon_first == 3:\n        return \"three_of_a_kind\"\n\n    if cards_in_hand in [4, 5] and mostcommon_first == 2 and mostcommon_second == 2:\n        return \"two_pair\"\n\n    if (len(set([x for x, y in hand])) > 1) and (sorted_hand == list(range(min(sorted_hand), max(sorted_hand)+1))):\n        return \"straight\"\n\n    if mostcommon_first == 2:\n        return \"one_pair\"\n    else:\n        return \"high_card\"\n\n"
     ]
    }
   ],
   "source": [
    "print(inspect.getsource(find_hand_type))"
   ]
  },
  {
   "cell_type": "code",
   "execution_count": 6,
   "metadata": {},
   "outputs": [
    {
     "output_type": "execute_result",
     "data": {
      "text/plain": [
       "'one_pair'"
      ]
     },
     "metadata": {},
     "execution_count": 6
    }
   ],
   "source": [
    "hand = [('spades', 14), ('hearts', 13), ('diamonds', 10), ('diamonds', 7), ('diamonds', 14)]\n",
    "\n",
    "val_int = [2, 3, 4, 5, 6, 7, 8, 9, 10, 11, 12, 13, 14]\n",
    "\n",
    "cards_in_hand = 5\n",
    "\n",
    "find_hand_type(hand,val_int,cards_in_hand)"
   ]
  },
  {
   "source": [
    "# Find winnner hand"
   ],
   "cell_type": "markdown",
   "metadata": {}
  },
  {
   "cell_type": "code",
   "execution_count": 7,
   "metadata": {},
   "outputs": [
    {
     "output_type": "stream",
     "name": "stdout",
     "text": [
      "def find_winner(poker_hands, modified_hand_1, type_1, modified_hand_2, type_2):\n\n    if type_1 != type_2:\n        if poker_hands[type_1] > poker_hands[type_2]:\n            return modified_hand_1\n        else:\n            return modified_hand_2\n    else:\n        if type_1 in ['royal_flush', 'straight_flush', 'flush', 'straight']:\n            return modified_hand_2 if sum([y for x, y in modified_hand_1]) > sum([y for x, y in modified_hand_2]) else modified_hand_2\n        elif type_1 in ['four_of_a_kind', 'three_of_a_kind']:\n            list_1 = [y for x, y in modified_hand_1]\n            list_2 = [y for x, y in modified_hand_2]\n            return modified_hand_1 if max(set(list_1), key=list_1.count) > max(set(list_2), key=list_2.count) else modified_hand_2\n        elif type_1 == 'full_house':\n            return modified_hand_1 if sum(set([y for x, y in modified_hand_1])) > sum(set([y for x, y in modified_hand_2])) else modified_hand_2\n        elif type_1 in [\"two_pair\", \"one_pair\"]:\n            list_1 = [y for x, y in modified_hand_1]\n            set_1 = set(list_1)\n            list_2 = [y for x, y in modified_hand_2]\n            set_2 = set(list_2)\n            return modified_hand_1 if sum([x for x in set_1 if list_1.count(x) == 2]) > sum([x for x in set_2 if list_2.count(x) == 2]) else modified_hand_2\n        elif type_1 == \"high_card\":\n            return modified_hand_1 if max([y for x, y in modified_hand_1]) > max([y for x, y in modified_hand_2]) else modified_hand_2\n\n"
     ]
    }
   ],
   "source": [
    "\n",
    "print(inspect.getsource(find_winner))\n"
   ]
  },
  {
   "cell_type": "code",
   "execution_count": 8,
   "metadata": {},
   "outputs": [
    {
     "output_type": "execute_result",
     "data": {
      "text/plain": [
       "[('spades', 14),\n",
       " ('spades', 13),\n",
       " ('spades', 10),\n",
       " ('spades', 11),\n",
       " ('spades', 12)]"
      ]
     },
     "metadata": {},
     "execution_count": 8
    }
   ],
   "source": [
    "\n",
    "poker_hands = {\"royal_flush\":10, \"straight_flush\":9, \"four_of_a_kind\":8, \"full_house\":7, \"flush\":6, \"straight\":5, \"three_of_a_kind\":4, \"two_pair\":3, \"one_pair\":2, \"high_card\":1}\n",
    "\n",
    "modified_hand_1 = [('spades', 14), ('spades', 13), ('spades', 10), ('spades', 11), ('spades', 12)]\n",
    "\n",
    "modified_hand_2 = [('hearts', 4), ('spades', 7), ('spades', 8), ('clubs', 7), ('clubs', 2)]\n",
    "\n",
    "type_1 = 'royal_flush'\n",
    "\n",
    "type_2 = 'one_pair'\n",
    "\n",
    "\n",
    "find_winner(poker_hands, modified_hand_1, type_1, modified_hand_2, type_2 )\n"
   ]
  },
  {
   "source": [
    "# The wrapper Function"
   ],
   "cell_type": "markdown",
   "metadata": {}
  },
  {
   "cell_type": "code",
   "execution_count": 9,
   "metadata": {},
   "outputs": [
    {
     "output_type": "stream",
     "name": "stdout",
     "text": [
      "def play_poker(first_hand, second_hand):\n\n    vals = ['2', '3', '4', '5', '6', '7', '8',\n            '9', '10', 'jack', 'queen', 'king', 'ace']\n    suits = ['spades', 'clubs', 'hearts', 'diamonds']\n\n    val_int = [2, 3, 4, 5, 6, 7, 8, 9, 10, 11, 12, 13, 14]\n    poker_hands = {\"royal_flush\": 10, \"straight_flush\": 9, \"four_of_a_kind\": 8, \"full_house\": 7,\n                   \"flush\": 6, \"straight\": 5, \"three_of_a_kind\": 4, \"two_pair\": 3, \"one_pair\": 2, \"high_card\": 1}\n\n    length_hand = len(first_hand)\n\n    # Validations\n\n    if not (3 <= length_hand <= 5):\n        raise ValueError(\n            \"no of cards in a hand should be between 3 and 5 inclusive\")\n\n    for suit, _ in first_hand:\n        if suit not in ['spades', 'clubs', 'hearts', 'diamonds']:\n            raise ValueError(\n                \"suit should be one of these: spades , clubs , hearts , diamonds\")\n    for suit, _ in second_hand:\n        if suit not in ['spades', 'clubs', 'hearts', 'diamonds']:\n            raise ValueError(\n                \"suit should be one of these: spades , clubs , hearts , diamonds\")\n\n    for _, val in first_hand:\n        if val not in ['2', '3', '4', '5', '6', '7', '8', '9', '10', 'jack', 'queen', 'king', 'ace']:\n            raise ValueError(\"Woah! Don't you know cards?\")\n    for _, val in second_hand:\n        if val not in ['2', '3', '4', '5', '6', '7', '8', '9', '10', 'jack', 'queen', 'king', 'ace']:\n            raise ValueError(\"Woah! Don't you know cards?\")\n\n    # get the modified hands for the input hands\n    mod_player1 = convert_faces_to_numbers(first_hand)\n    mod_player2 = convert_faces_to_numbers(second_hand)\n\n    # find the type of each hand\n    type_1 = find_hand_type(mod_player1, val_int, length_hand)\n    type_2 = find_hand_type(mod_player2, val_int, length_hand)\n\n    # find the winner hand\n    winner_hand = find_winner(poker_hands, mod_player1,\n                        type_1, mod_player2, type_2)\n\n    # return the original winner hand\n    return [type_1, first_hand] if winner_hand == mod_player1 else [type_2, second_hand]\n\n"
     ]
    }
   ],
   "source": [
    "print(inspect.getsource(play_poker))"
   ]
  },
  {
   "cell_type": "code",
   "execution_count": 10,
   "metadata": {},
   "outputs": [
    {
     "output_type": "execute_result",
     "data": {
      "text/plain": [
       "['royal_flush',\n",
       " [('spades', 'ace'),\n",
       "  ('spades', 'king'),\n",
       "  ('spades', 'jack'),\n",
       "  ('spades', 'queen')]]"
      ]
     },
     "metadata": {},
     "execution_count": 10
    }
   ],
   "source": [
    "first_hand = [('spades', 'ace'), ('spades', 'king'), ('spades', 'jack'), ('spades', 'queen')]\n",
    "second_hand = [('hearts', '4'), ('spades', '7'), ('spades', '8'), ('clubs', '7')]\n",
    "play_poker(first_hand, second_hand)"
   ]
  },
  {
   "cell_type": "code",
   "execution_count": null,
   "metadata": {},
   "outputs": [],
   "source": []
  }
 ]
}