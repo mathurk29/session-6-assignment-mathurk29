{
 "metadata": {
  "language_info": {
   "codemirror_mode": {
    "name": "ipython",
    "version": 3
   },
   "file_extension": ".py",
   "mimetype": "text/x-python",
   "name": "python",
   "nbconvert_exporter": "python",
   "pygments_lexer": "ipython3",
   "version": "3.7.9"
  },
  "orig_nbformat": 4,
  "kernelspec": {
   "name": "python3",
   "display_name": "Python 3.7.9 64-bit"
  },
  "interpreter": {
   "hash": "0600588c3b5f4418cbe7b5ebc6825b479f3bc010269d8b60d75058cdd010adfe"
  }
 },
 "nbformat": 4,
 "nbformat_minor": 2,
 "cells": [
  {
   "cell_type": "code",
   "execution_count": 1,
   "metadata": {},
   "outputs": [],
   "source": [
    "import random\n",
    "from  part1 import *\n",
    "from collections import Counter\n",
    "import inspect"
   ]
  },
  {
   "source": [
    "# 1.1\n"
   ],
   "cell_type": "markdown",
   "metadata": {}
  },
  {
   "cell_type": "code",
   "execution_count": 2,
   "metadata": {},
   "outputs": [
    {
     "output_type": "execute_result",
     "data": {
      "text/plain": [
       "[{'spades': 'ace'},\n",
       " {'spades': '2'},\n",
       " {'spades': '3'},\n",
       " {'spades': '4'},\n",
       " {'spades': '5'},\n",
       " {'spades': '6'},\n",
       " {'spades': '7'},\n",
       " {'spades': '8'},\n",
       " {'spades': '9'},\n",
       " {'spades': '10'},\n",
       " {'spades': 'jack'},\n",
       " {'spades': 'queen'},\n",
       " {'spades': 'king'},\n",
       " {'clubs': 'ace'},\n",
       " {'clubs': '2'},\n",
       " {'clubs': '3'},\n",
       " {'clubs': '4'},\n",
       " {'clubs': '5'},\n",
       " {'clubs': '6'},\n",
       " {'clubs': '7'},\n",
       " {'clubs': '8'},\n",
       " {'clubs': '9'},\n",
       " {'clubs': '10'},\n",
       " {'clubs': 'jack'},\n",
       " {'clubs': 'queen'},\n",
       " {'clubs': 'king'},\n",
       " {'hearts': 'ace'},\n",
       " {'hearts': '2'},\n",
       " {'hearts': '3'},\n",
       " {'hearts': '4'},\n",
       " {'hearts': '5'},\n",
       " {'hearts': '6'},\n",
       " {'hearts': '7'},\n",
       " {'hearts': '8'},\n",
       " {'hearts': '9'},\n",
       " {'hearts': '10'},\n",
       " {'hearts': 'jack'},\n",
       " {'hearts': 'queen'},\n",
       " {'hearts': 'king'},\n",
       " {'diamonds': 'ace'},\n",
       " {'diamonds': '2'},\n",
       " {'diamonds': '3'},\n",
       " {'diamonds': '4'},\n",
       " {'diamonds': '5'},\n",
       " {'diamonds': '6'},\n",
       " {'diamonds': '7'},\n",
       " {'diamonds': '8'},\n",
       " {'diamonds': '9'},\n",
       " {'diamonds': '10'},\n",
       " {'diamonds': 'jack'},\n",
       " {'diamonds': 'queen'},\n",
       " {'diamonds': 'king'}]"
      ]
     },
     "metadata": {},
     "execution_count": 2
    }
   ],
   "source": [
    "single_exp_generate_deck"
   ]
  },
  {
   "source": [
    "# 1.2\n",
    "\n"
   ],
   "cell_type": "markdown",
   "metadata": {}
  },
  {
   "cell_type": "code",
   "execution_count": 3,
   "metadata": {},
   "outputs": [
    {
     "output_type": "stream",
     "name": "stdout",
     "text": [
      "def create_deck_of_cards() -> list:\n    '''This function returns a list of tuples that represents the 52 cards in a deck of cards'''\n\n    vals = ['ace', '2', '3', '4', '5', '6', '7',\n            '8', '9', '10', 'jack', 'queen', 'king']\n\n    suits = ['spades', 'clubs', 'hearts', 'diamonds']\n\n    deck = []\n    for s in suits:\n        for v in vals:\n            deck.append({s: v})\n    return deck\n\n"
     ]
    }
   ],
   "source": [
    "print(inspect.getsource(create_deck_of_cards))"
   ]
  },
  {
   "cell_type": "code",
   "execution_count": 4,
   "metadata": {},
   "outputs": [
    {
     "output_type": "execute_result",
     "data": {
      "text/plain": [
       "[{'spades': 'ace'},\n",
       " {'spades': '2'},\n",
       " {'spades': '3'},\n",
       " {'spades': '4'},\n",
       " {'spades': '5'},\n",
       " {'spades': '6'},\n",
       " {'spades': '7'},\n",
       " {'spades': '8'},\n",
       " {'spades': '9'},\n",
       " {'spades': '10'},\n",
       " {'spades': 'jack'},\n",
       " {'spades': 'queen'},\n",
       " {'spades': 'king'},\n",
       " {'clubs': 'ace'},\n",
       " {'clubs': '2'},\n",
       " {'clubs': '3'},\n",
       " {'clubs': '4'},\n",
       " {'clubs': '5'},\n",
       " {'clubs': '6'},\n",
       " {'clubs': '7'},\n",
       " {'clubs': '8'},\n",
       " {'clubs': '9'},\n",
       " {'clubs': '10'},\n",
       " {'clubs': 'jack'},\n",
       " {'clubs': 'queen'},\n",
       " {'clubs': 'king'},\n",
       " {'hearts': 'ace'},\n",
       " {'hearts': '2'},\n",
       " {'hearts': '3'},\n",
       " {'hearts': '4'},\n",
       " {'hearts': '5'},\n",
       " {'hearts': '6'},\n",
       " {'hearts': '7'},\n",
       " {'hearts': '8'},\n",
       " {'hearts': '9'},\n",
       " {'hearts': '10'},\n",
       " {'hearts': 'jack'},\n",
       " {'hearts': 'queen'},\n",
       " {'hearts': 'king'},\n",
       " {'diamonds': 'ace'},\n",
       " {'diamonds': '2'},\n",
       " {'diamonds': '3'},\n",
       " {'diamonds': '4'},\n",
       " {'diamonds': '5'},\n",
       " {'diamonds': '6'},\n",
       " {'diamonds': '7'},\n",
       " {'diamonds': '8'},\n",
       " {'diamonds': '9'},\n",
       " {'diamonds': '10'},\n",
       " {'diamonds': 'jack'},\n",
       " {'diamonds': 'queen'},\n",
       " {'diamonds': 'king'}]"
      ]
     },
     "metadata": {},
     "execution_count": 4
    }
   ],
   "source": [
    "create_deck_of_cards()"
   ]
  },
  {
   "source": [
    "# Convert Face cards to numbers for convenient comparisons"
   ],
   "cell_type": "markdown",
   "metadata": {}
  },
  {
   "cell_type": "code",
   "execution_count": 5,
   "metadata": {},
   "outputs": [
    {
     "output_type": "stream",
     "name": "stdout",
     "text": [
      "def convert_faces_to_numbers(hand):\n    '''  modify cards of input hands to integral values for easy computation of their comparisons '''\n    result = []\n    for x, y in hand:\n        if y == 'jack':\n            y = int(11)\n        elif y == 'queen':\n            y = int(12)\n        elif y == 'king':\n            y = int(13)\n        # Marking Ace as 14 as it is superior to King(13) in Poker\n        elif y == 'ace':\n            y = int(14)\n        else:\n            y = int(y)\n        result.append((x, y))\n\n    return result\n\n"
     ]
    }
   ],
   "source": [
    "print(inspect.getsource(convert_faces_to_numbers))"
   ]
  },
  {
   "cell_type": "code",
   "execution_count": 6,
   "metadata": {},
   "outputs": [
    {
     "output_type": "execute_result",
     "data": {
      "text/plain": [
       "[('diamonds', 12),\n",
       " ('clubs', 12),\n",
       " ('spades', 12),\n",
       " ('hearts', 12),\n",
       " ('spades', 5)]"
      ]
     },
     "metadata": {},
     "execution_count": 6
    }
   ],
   "source": [
    "convert_faces_to_numbers(\n",
    "    [\n",
    "        ('diamonds', 'queen'), ('clubs', 'queen'),\n",
    "        ('spades', 'queen'), ('hearts', 'queen'), \n",
    "        ('spades', '5')\n",
    "    ]\n",
    ")"
   ]
  },
  {
   "source": [
    "# Identify the hand of the set player holds"
   ],
   "cell_type": "markdown",
   "metadata": {}
  },
  {
   "cell_type": "code",
   "execution_count": 7,
   "metadata": {},
   "outputs": [
    {
     "output_type": "stream",
     "name": "stdout",
     "text": [
      "def find_hand_type(hand: list):\n    ''' Returns the type of hand'''\n\n    # sorting hand for easy calculations\n    sorted_hand = sorted([y for x, y in hand])\n\n    # check if all cards of the hand belong to same suit\n    if len(set([x for x, y in hand])) == 1:\n\n        # 10 to Ace, all of same suit\n        if sum([y for x, y in hand]) == sum(range(10, 15)[-len(hand):]):\n            return \"royal_flush\"\n\n        # consecutive ranks, all of same suit\n        elif sorted_hand == list(range(min(sorted_hand), max(sorted_hand)+1)):\n            return \"straight_flush\"\n\n        # inconsecutive ranks but all of same suit\n        else:\n            return \"flush\"\n\n    frequency = Counter([y for x, y in hand])\n    length_of_unique_ranks = len(frequency)\n    most_common_ranks = frequency.most_common()\n\n    # first most common\n    mostcommon_first = most_common_ranks[0][1]\n    if length_of_unique_ranks > 1:\n        mostcommon_second = most_common_ranks[1][1]\n\n    # three cards of same rank and two cards of some other rank\n    if len(hand) == 5 and mostcommon_first == 3 and mostcommon_second == 2:\n        return \"full_house\"\n\n    # four cards of one rank\n    if len(hand) >= 4 and mostcommon_first == 4:\n        return \"four_of_a_kind\"\n\n    # three cards of one rank\n    if mostcommon_first == 3:\n        return \"three_of_a_kind\"\n\n    # two cards of one rank and two cards of another rank\n    if len(hand) >= 4 and mostcommon_first == 2 and mostcommon_second == 2:\n        return \"two_pair\"\n\n    #  sequential ranks and not all of same suit\n    if (sorted_hand == list(range(min(sorted_hand), max(sorted_hand)+1))) and (len(set([x for x, y in hand])) > 1):\n        return \"straight\"\n\n    # two cards of one rank\n    if mostcommon_first == 2:\n        return \"one_pair\"\n\n    # no matching ranks among cards\n    else:\n        return \"high_card\"\n\n"
     ]
    }
   ],
   "source": [
    "print(inspect.getsource(find_hand_type))"
   ]
  },
  {
   "cell_type": "code",
   "execution_count": 8,
   "metadata": {},
   "outputs": [
    {
     "output_type": "execute_result",
     "data": {
      "text/plain": [
       "'one_pair'"
      ]
     },
     "metadata": {},
     "execution_count": 8
    }
   ],
   "source": [
    "hand = [('spades', 14), ('hearts', 13), ('diamonds', 10), ('diamonds', 7), ('diamonds', 14)]\n",
    "\n",
    "\n",
    "find_hand_type(hand)"
   ]
  },
  {
   "source": [
    "# Find winnner hand"
   ],
   "cell_type": "markdown",
   "metadata": {}
  },
  {
   "cell_type": "code",
   "execution_count": 9,
   "metadata": {},
   "outputs": [
    {
     "output_type": "stream",
     "name": "stdout",
     "text": [
      "def compare_hands(modified_first_hand: list, type_first_hand: str, modified_second_hand, type_second_hand: str):\n\n    hands_rank_dict = \\\n        {\n            \"high_card\": 1,\n            \"one_pair\": 2,\n            \"two_pair\": 3,\n            \"three_of_a_kind\": 4,\n            \"straight\": 5,\n            \"flush\": 6,\n            \"full_house\": 7,\n            \"four_of_a_kind\": 8,\n            \"straight_flush\": 9,\n            \"royal_flush\": 10,\n        }\n\n    if type_first_hand != type_second_hand:\n\n        return modified_first_hand if hands_rank_dict[type_first_hand] > hands_rank_dict[type_second_hand] else modified_second_hand\n\n    else:\n        ranks_hand1 = [y for x, y in modified_first_hand]\n        ranks_hand2 = [y for x, y in modified_second_hand]\n\n        if type_first_hand in ['royal_flush', 'straight_flush', 'flush', 'straight']:\n            return modified_first_hand if max(ranks_hand1) > max(ranks_hand2) else modified_second_hand\n\n        elif type_first_hand in ['four_of_a_kind', 'three_of_a_kind']:\n            # compare the highest card of the quad/triplet\n            return modified_first_hand if max(set(ranks_hand1), key=ranks_hand1.count) > max(set(ranks_hand2), key=ranks_hand2.count) else modified_second_hand\n\n        elif type_first_hand == 'full_house':\n            # first compare the triplets\n            if max(set(ranks_hand1)) > max(set(ranks_hand2)):\n                return modified_first_hand\n            # triplets are deuce, so now compare pairs\n            if min(set(ranks_hand1)) > min(set(ranks_hand2)):\n                return modified_first_hand\n            else:\n                return modified_second_hand\n\n        elif type_first_hand in [\"two_pair\", \"one_pair\"]:\n            # compare the pair of higher rank\n            if max([x for x in ranks_hand1 if ranks_hand1.count(x) == 2]) > max([x for x in ranks_hand2 if ranks_hand2.count(x) == 2]):\n                return modified_first_hand\n            # compare the rank of other only for two_pair case\n            if type_first_hand == \"two_pair\" and min([x for x in ranks_hand1 if ranks_hand1.count(x) == 2]) > min([x for x in ranks_hand2 if ranks_hand2.count(x) == 2]):\n                return modified_first_hand\n            # compare kickers\n            else:\n                return modified_first_hand if [x for x in ranks_hand1 if ranks_hand1.count(x) == 1][0] > [x for x in ranks_hand2 if ranks_hand2.count(x) == 1][0] else modified_second_hand\n\n        elif type_first_hand == \"high_card\":\n            return modified_first_hand if max(ranks_hand1) > max(ranks_hand2) else modified_second_hand\n\n        else:\n            raise Exception(\n                \"There is problem either in the input validation or hand comparisons.\")\n\n"
     ]
    }
   ],
   "source": [
    "\n",
    "print(inspect.getsource(compare_hands))\n"
   ]
  },
  {
   "cell_type": "code",
   "execution_count": 14,
   "metadata": {},
   "outputs": [
    {
     "output_type": "execute_result",
     "data": {
      "text/plain": [
       "[('spades', 14),\n",
       " ('spades', 13),\n",
       " ('spades', 10),\n",
       " ('spades', 11),\n",
       " ('spades', 12)]"
      ]
     },
     "metadata": {},
     "execution_count": 14
    }
   ],
   "source": [
    "\n",
    "modified_hand_1 = [('spades', 14), ('spades', 13), ('spades', 10), ('spades', 11), ('spades', 12)]\n",
    "\n",
    "modified_hand_2 = [('hearts', 4), ('spades', 7), ('spades', 8), ('clubs', 7), ('clubs', 2)]\n",
    "\n",
    "type_1 = 'royal_flush'\n",
    "\n",
    "type_2 = 'one_pair'\n",
    "\n",
    "\n",
    "compare_hands(modified_hand_1, type_1, modified_hand_2, type_2 )\n"
   ]
  },
  {
   "source": [
    "# The wrapper Function"
   ],
   "cell_type": "markdown",
   "metadata": {}
  },
  {
   "cell_type": "code",
   "execution_count": 11,
   "metadata": {},
   "outputs": [
    {
     "output_type": "stream",
     "name": "stdout",
     "text": [
      "def play_poker(first_hand: list, second_hand: list) -> tuple:\n    ''' Wrapper function which validate, transform and compare hands. Returns the winner hand. '''\n\n    # Validations\n    for suit, _ in first_hand:\n        if suit not in ['spades', 'clubs', 'hearts', 'diamonds']:\n            raise ValueError(\n                \"suit should be one of these: spades , clubs , hearts , diamonds\")\n    for suit, _ in second_hand:\n        if suit not in ['spades', 'clubs', 'hearts', 'diamonds']:\n            raise ValueError(\n                \"suit should be one of these: spades , clubs , hearts , diamonds but I found \" + suit)\n    for _, val in first_hand:\n        if val not in ['2', '3', '4', '5', '6', '7', '8', '9', '10', 'jack', 'queen', 'king', 'ace']:\n            raise ValueError(\n                \"Provide card ranks as strings. For face values, supply lowercase strings. For first hand I got: \" + val)\n    for _, val in second_hand:\n        if val not in ['2', '3', '4', '5', '6', '7', '8', '9', '10', 'jack', 'queen', 'king', 'ace']:\n            raise ValueError(\n                \"Provide card ranks as strings. For face values, supply lowercase strings. For second hand I got: \" + val)\n    if len(first_hand) not in (3, 4, 5) or len(second_hand) not in (3, 4, 5):\n        raise ValueError(\n            'Length of a hand is either less than 3 or greater than 5')\n    if set(first_hand).intersection(set(second_hand)) != set():\n        raise ValueError(\n            \"Same card present in both hands. Casino Security on the way!\")\n\n    # convert cards of input hands to integral values for easy computation of their comparisons\n    modified_first_hand = convert_faces_to_numbers(first_hand)\n    modified_second_hand = convert_faces_to_numbers(second_hand)\n\n    # find the type of each hand\n    type_first_hand = find_hand_type(modified_first_hand)\n    type_second_hand = find_hand_type(modified_second_hand)\n\n    # find the winner hand\n    wining_hand = compare_hands(\n        modified_first_hand, type_first_hand, modified_second_hand, type_second_hand)\n\n    # return the winning hand with it's type\n    return [type_first_hand, first_hand] if wining_hand == modified_first_hand else [type_second_hand, second_hand]\n\n"
     ]
    }
   ],
   "source": [
    "print(inspect.getsource(play_poker))"
   ]
  },
  {
   "cell_type": "code",
   "execution_count": 12,
   "metadata": {},
   "outputs": [
    {
     "output_type": "execute_result",
     "data": {
      "text/plain": [
       "['royal_flush',\n",
       " [('spades', 'ace'),\n",
       "  ('spades', 'king'),\n",
       "  ('spades', 'jack'),\n",
       "  ('spades', 'queen')]]"
      ]
     },
     "metadata": {},
     "execution_count": 12
    }
   ],
   "source": [
    "first_hand = [('spades', 'ace'), ('spades', 'king'), ('spades', 'jack'), ('spades', 'queen')]\n",
    "second_hand = [('hearts', '4'), ('spades', '7'), ('spades', '8'), ('clubs', '7')]\n",
    "play_poker(first_hand, second_hand)"
   ]
  }
 ]
}