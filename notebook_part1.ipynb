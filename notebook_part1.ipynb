{
 "metadata": {
  "language_info": {
   "codemirror_mode": {
    "name": "ipython",
    "version": 3
   },
   "file_extension": ".py",
   "mimetype": "text/x-python",
   "name": "python",
   "nbconvert_exporter": "python",
   "pygments_lexer": "ipython3",
   "version": "3.7.9"
  },
  "orig_nbformat": 4,
  "kernelspec": {
   "name": "python3",
   "display_name": "Python 3.7.9 64-bit"
  },
  "interpreter": {
   "hash": "0600588c3b5f4418cbe7b5ebc6825b479f3bc010269d8b60d75058cdd010adfe"
  }
 },
 "nbformat": 4,
 "nbformat_minor": 2,
 "cells": [
  {
   "cell_type": "code",
   "execution_count": 1,
   "metadata": {},
   "outputs": [],
   "source": [
    "import random\n",
    "import poker\n"
   ]
  },
  {
   "source": [
    "# 1\n"
   ],
   "cell_type": "markdown",
   "metadata": {}
  },
  {
   "cell_type": "code",
   "execution_count": 12,
   "metadata": {},
   "outputs": [
    {
     "output_type": "stream",
     "name": "stdout",
     "text": [
      "{'spades': 'ace'}\n{'spades': '2'}\n{'spades': '3'}\n{'spades': '4'}\n{'spades': '5'}\n{'spades': '6'}\n{'spades': '7'}\n{'spades': '8'}\n{'spades': '9'}\n{'spades': '10'}\n{'spades': 'jack'}\n{'spades': 'queen'}\n{'spades': 'king'}\n{'clubs': 'ace'}\n{'clubs': '2'}\n{'clubs': '3'}\n{'clubs': '4'}\n{'clubs': '5'}\n{'clubs': '6'}\n{'clubs': '7'}\n{'clubs': '8'}\n{'clubs': '9'}\n{'clubs': '10'}\n{'clubs': 'jack'}\n{'clubs': 'queen'}\n{'clubs': 'king'}\n{'hearts': 'ace'}\n{'hearts': '2'}\n{'hearts': '3'}\n{'hearts': '4'}\n{'hearts': '5'}\n{'hearts': '6'}\n{'hearts': '7'}\n{'hearts': '8'}\n{'hearts': '9'}\n{'hearts': '10'}\n{'hearts': 'jack'}\n{'hearts': 'queen'}\n{'hearts': 'king'}\n{'diamonds': 'ace'}\n{'diamonds': '2'}\n{'diamonds': '3'}\n{'diamonds': '4'}\n{'diamonds': '5'}\n{'diamonds': '6'}\n{'diamonds': '7'}\n{'diamonds': '8'}\n{'diamonds': '9'}\n{'diamonds': '10'}\n{'diamonds': 'jack'}\n{'diamonds': 'queen'}\n{'diamonds': 'king'}\n"
     ]
    },
    {
     "output_type": "execute_result",
     "data": {
      "text/plain": [
       "52"
      ]
     },
     "metadata": {},
     "execution_count": 12
    }
   ],
   "source": [
    "deck = [{x:y} for x in [ 'spades' , 'clubs' , 'hearts' , 'diamonds' ] for y in [ 'ace', '2' , '3' , '4' , '5' , '6' , '7' , '8' , '9' , '10' , 'jack' , 'queen' , 'king' ]  ]\n",
    "for d in deck:\n",
    "    print(d)\n",
    "len(deck)"
   ]
  },
  {
   "source": [
    "# 2\n",
    "\n"
   ],
   "cell_type": "markdown",
   "metadata": {}
  },
  {
   "cell_type": "code",
   "execution_count": 14,
   "metadata": {},
   "outputs": [
    {
     "output_type": "stream",
     "name": "stdout",
     "text": [
      "{'spades': 'ace'}\n{'spades': '2'}\n{'spades': '3'}\n{'spades': '4'}\n{'spades': '5'}\n{'spades': '6'}\n{'spades': '7'}\n{'spades': '8'}\n{'spades': '9'}\n{'spades': '10'}\n{'spades': 'jack'}\n{'spades': 'queen'}\n{'spades': 'king'}\n{'clubs': 'ace'}\n{'clubs': '2'}\n{'clubs': '3'}\n{'clubs': '4'}\n{'clubs': '5'}\n{'clubs': '6'}\n{'clubs': '7'}\n{'clubs': '8'}\n{'clubs': '9'}\n{'clubs': '10'}\n{'clubs': 'jack'}\n{'clubs': 'queen'}\n{'clubs': 'king'}\n{'hearts': 'ace'}\n{'hearts': '2'}\n{'hearts': '3'}\n{'hearts': '4'}\n{'hearts': '5'}\n{'hearts': '6'}\n{'hearts': '7'}\n{'hearts': '8'}\n{'hearts': '9'}\n{'hearts': '10'}\n{'hearts': 'jack'}\n{'hearts': 'queen'}\n{'hearts': 'king'}\n{'diamonds': 'ace'}\n{'diamonds': '2'}\n{'diamonds': '3'}\n{'diamonds': '4'}\n{'diamonds': '5'}\n{'diamonds': '6'}\n{'diamonds': '7'}\n{'diamonds': '8'}\n{'diamonds': '9'}\n{'diamonds': '10'}\n{'diamonds': 'jack'}\n{'diamonds': 'queen'}\n{'diamonds': 'king'}\n"
     ]
    },
    {
     "output_type": "execute_result",
     "data": {
      "text/plain": [
       "52"
      ]
     },
     "metadata": {},
     "execution_count": 14
    }
   ],
   "source": [
    "def create_deck_of_cards_forloops() -> list:\n",
    "    ''' This function returns a list of tuples that represents the 52 cards in a deck of cards. '''\n",
    "\n",
    "    vals = [ 'ace', '2' , '3' , '4' , '5' , '6' , '7' , '8' , '9' , '10' , 'jack' , 'queen' , 'king' ]\n",
    "\n",
    "    suits = [ 'spades' , 'clubs' , 'hearts' , 'diamonds' ]\n",
    "    \n",
    "    deck = []\n",
    "    for v in vals:\n",
    "        for s in suits:\n",
    "            deck.append({s:v})\n",
    "    return deck\n",
    "\n",
    "\n",
    "for d in deck:\n",
    "    print(d)\n",
    "len(deck)\n",
    "\n",
    "len(create_deck_of_cards_forloops())"
   ]
  }
 ]
}